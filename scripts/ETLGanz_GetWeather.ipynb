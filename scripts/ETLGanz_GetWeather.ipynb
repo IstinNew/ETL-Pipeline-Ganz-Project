{
 "cells": [
  {
   "cell_type": "markdown",
   "metadata": {},
   "source": [
    "## ETLGanz Get Weather\n",
    "### 1. Objective\n",
    "To scrape cities data from Wikipedia, weather data from OpenWeather Map.org, set up dataframes, and use SQL to store data for table queries. Additionally, we will use an API weather key to fetch real-time weather data as needed.\n",
    "\n"
   ]
  },
  {
   "cell_type": "markdown",
   "metadata": {},
   "source": [
    "### 2. Global Configuration"
   ]
  },
  {
   "cell_type": "code",
   "execution_count": 4,
   "metadata": {},
   "outputs": [],
   "source": [
    "# Global Configuration\n",
    "# Import necessary libraries\n",
    "\n",
    "import pandas as pd\n",
    "import numpy as np\n",
    "import requests as req\n",
    "import sqlalchemy as sa\n",
    "import pymysql as pms\n",
    "import re\n",
    "import myconfig as cfg\n",
    "\n",
    "from bs4 import BeautifulSoup\n",
    "from datetime import datetime\n",
    "\n",
    "import warnings\n",
    "\n",
    "warnings.filterwarnings('ignore')\n",
    "\n",
    "#Default path for data\n",
    "# path = \"..\\Data\\\\\""
   ]
  },
  {
   "cell_type": "markdown",
   "metadata": {},
   "source": [
    "###  3. Third Party Data\n",
    "#####\n",
    "URLs for cities are below:\n",
    "```markdown\n",
    "- [Berlin](https://en.wikipedia.org/wiki/Berlin)\n",
    "- [Hamburg](https://en.wikipedia.org/wiki/Hamburg)\n",
    "- [Munich](https://en.wikipedia.org/wiki/Munich)\n",
    "```\n",
    "Weather Source from : http://api.openweathermap.org"
   ]
  },
  {
   "cell_type": "code",
   "execution_count": 5,
   "metadata": {},
   "outputs": [],
   "source": [
    "url1 =\"https://en.wikipedia.org/wiki/Berlin\"\n",
    "url2 =\"https://en.wikipedia.org/wiki/Hamburg\"\n",
    "url3 =\"https://en.wikipedia.org/wiki/Munich\""
   ]
  },
  {
   "cell_type": "markdown",
   "metadata": {},
   "source": [
    "### 4. Cities\n",
    "### 4.1 Initial Checks\n",
    "##### Parameters\n",
    "- **Site response**: status code 200 or something else!\n",
    "- **Data Extraction Checks**: for city name, country, latitude, longitude, population etc."
   ]
  },
  {
   "cell_type": "code",
   "execution_count": 3,
   "metadata": {},
   "outputs": [
    {
     "data": {
      "text/plain": [
       "(200, 200, 200)"
      ]
     },
     "execution_count": 3,
     "metadata": {},
     "output_type": "execute_result"
    }
   ],
   "source": [
    "response1 = req.get(url1)\n",
    "response2 = req.get(url2)\n",
    "response3 = req.get(url3)\n",
    "\n",
    "response1.status_code,response2.status_code,response3.status_code"
   ]
  },
  {
   "cell_type": "code",
   "execution_count": 6,
   "metadata": {},
   "outputs": [],
   "source": [
    "list_of_cities = ['Berlin', 'Hamburg', 'Munich']\n",
    "\n",
    "for city in list_of_cities:\n",
    "\n",
    "    url = \"https://en.wikipedia.org/wiki/\" + city\n",
    "    headers = {'Accept-Language': 'en-US,en;q=0.8'}\n",
    "    response = req.get(url, headers = headers)\n",
    "    if response.status_code != 200: break\n",
    "    soup = BeautifulSoup(response.content, \"html.parser\")\n",
    "\n",
    "\n",
    "\n",
    "city_names = []\n",
    "country_names = []\n",
    "latitudes = []\n",
    "longitudes = []\n",
    "populations = []"
   ]
  },
  {
   "cell_type": "code",
   "execution_count": 7,
   "metadata": {},
   "outputs": [],
   "source": [
    "for city in list_of_cities:\n",
    "\n",
    "    url = \"https://en.wikipedia.org/wiki/\" + city\n",
    "    headers = {'Accept-Language': 'en-US,en;q=0.8'}\n",
    "    response = req.get(url, headers = headers)\n",
    "    if response.status_code != 200: break\n",
    "    soup = BeautifulSoup(response.content, \"html.parser\")\n",
    "    \n",
    "    city_name = soup.select('span.mw-page-title-main')[0].get_text()\n",
    "    city_names.append(city_name)\n",
    "    country_name = soup.select('td.infobox-data')[0].get_text()\n",
    "    country_names.append(country_name)\n",
    "    latitude = soup.select('span.latitude')[0].get_text()\n",
    "    latitudes.append(latitude)\n",
    "    longitude = soup.select('span.longitude')[0].get_text()\n",
    "    longitudes.append(longitude)\n",
    "    population = soup.select('th.infobox-header:-soup-contains(\"Population\")')[0].parent.find_next_sibling().find(string=re.compile(r'\\d+'))\n",
    "    populations.append(population)"
   ]
  },
  {
   "cell_type": "code",
   "execution_count": 8,
   "metadata": {},
   "outputs": [
    {
     "data": {
      "text/html": [
       "<div>\n",
       "<style scoped>\n",
       "    .dataframe tbody tr th:only-of-type {\n",
       "        vertical-align: middle;\n",
       "    }\n",
       "\n",
       "    .dataframe tbody tr th {\n",
       "        vertical-align: top;\n",
       "    }\n",
       "\n",
       "    .dataframe thead th {\n",
       "        text-align: right;\n",
       "    }\n",
       "</style>\n",
       "<table border=\"1\" class=\"dataframe\">\n",
       "  <thead>\n",
       "    <tr style=\"text-align: right;\">\n",
       "      <th></th>\n",
       "      <th>City</th>\n",
       "      <th>Country</th>\n",
       "      <th>Latitude</th>\n",
       "      <th>Longitude</th>\n",
       "      <th>Population</th>\n",
       "    </tr>\n",
       "  </thead>\n",
       "  <tbody>\n",
       "    <tr>\n",
       "      <th>0</th>\n",
       "      <td>Berlin</td>\n",
       "      <td>Germany</td>\n",
       "      <td>52°31′12″N</td>\n",
       "      <td>13°24′18″E</td>\n",
       "      <td>3878100</td>\n",
       "    </tr>\n",
       "    <tr>\n",
       "      <th>1</th>\n",
       "      <td>Hamburg</td>\n",
       "      <td>Germany</td>\n",
       "      <td>53°33′N</td>\n",
       "      <td>10°00′E</td>\n",
       "      <td>1964021</td>\n",
       "    </tr>\n",
       "    <tr>\n",
       "      <th>2</th>\n",
       "      <td>Munich</td>\n",
       "      <td>Germany</td>\n",
       "      <td>48°08′15″N</td>\n",
       "      <td>11°34′30″E</td>\n",
       "      <td>1510378</td>\n",
       "    </tr>\n",
       "  </tbody>\n",
       "</table>\n",
       "</div>"
      ],
      "text/plain": [
       "      City  Country    Latitude   Longitude  Population\n",
       "0   Berlin  Germany  52°31′12″N  13°24′18″E     3878100\n",
       "1  Hamburg  Germany     53°33′N     10°00′E     1964021\n",
       "2   Munich  Germany  48°08′15″N  11°34′30″E     1510378"
      ]
     },
     "execution_count": 8,
     "metadata": {},
     "output_type": "execute_result"
    }
   ],
   "source": [
    "cities_df = pd.DataFrame(\n",
    "    {\"City\": city_names,\n",
    "     \"Country\": country_names,\n",
    "     \"Latitude\": latitudes,\n",
    "     \"Longitude\": longitudes,\n",
    "     \"Population\": populations\n",
    "    }\n",
    ")\n",
    "\n",
    "cities_df['Population'] = cities_df['Population'].str.replace(',', '').astype(int)\n",
    "cities_df"
   ]
  },
  {
   "cell_type": "code",
   "execution_count": 9,
   "metadata": {},
   "outputs": [
    {
     "name": "stdout",
     "output_type": "stream",
     "text": [
      "<class 'pandas.core.frame.DataFrame'>\n",
      "RangeIndex: 3 entries, 0 to 2\n",
      "Data columns (total 5 columns):\n",
      " #   Column      Non-Null Count  Dtype \n",
      "---  ------      --------------  ----- \n",
      " 0   City        3 non-null      object\n",
      " 1   Country     3 non-null      object\n",
      " 2   Latitude    3 non-null      object\n",
      " 3   Longitude   3 non-null      object\n",
      " 4   Population  3 non-null      int64 \n",
      "dtypes: int64(1), object(4)\n",
      "memory usage: 252.0+ bytes\n"
     ]
    }
   ],
   "source": [
    "cities_df.info()"
   ]
  },
  {
   "cell_type": "code",
   "execution_count": 10,
   "metadata": {},
   "outputs": [
    {
     "data": {
      "text/html": [
       "<div>\n",
       "<style scoped>\n",
       "    .dataframe tbody tr th:only-of-type {\n",
       "        vertical-align: middle;\n",
       "    }\n",
       "\n",
       "    .dataframe tbody tr th {\n",
       "        vertical-align: top;\n",
       "    }\n",
       "\n",
       "    .dataframe thead th {\n",
       "        text-align: right;\n",
       "    }\n",
       "</style>\n",
       "<table border=\"1\" class=\"dataframe\">\n",
       "  <thead>\n",
       "    <tr style=\"text-align: right;\">\n",
       "      <th></th>\n",
       "      <th>City</th>\n",
       "      <th>Country</th>\n",
       "      <th>Latitude</th>\n",
       "      <th>Longitude</th>\n",
       "      <th>Population</th>\n",
       "    </tr>\n",
       "  </thead>\n",
       "  <tbody>\n",
       "    <tr>\n",
       "      <th>0</th>\n",
       "      <td>Berlin</td>\n",
       "      <td>Germany</td>\n",
       "      <td>52°31′12″N</td>\n",
       "      <td>13°24′18″E</td>\n",
       "      <td>3878100</td>\n",
       "    </tr>\n",
       "    <tr>\n",
       "      <th>1</th>\n",
       "      <td>Hamburg</td>\n",
       "      <td>Germany</td>\n",
       "      <td>53°33′N</td>\n",
       "      <td>10°00′E</td>\n",
       "      <td>1964021</td>\n",
       "    </tr>\n",
       "    <tr>\n",
       "      <th>2</th>\n",
       "      <td>Munich</td>\n",
       "      <td>Germany</td>\n",
       "      <td>48°08′15″N</td>\n",
       "      <td>11°34′30″E</td>\n",
       "      <td>1510378</td>\n",
       "    </tr>\n",
       "  </tbody>\n",
       "</table>\n",
       "</div>"
      ],
      "text/plain": [
       "      City  Country    Latitude   Longitude  Population\n",
       "0   Berlin  Germany  52°31′12″N  13°24′18″E     3878100\n",
       "1  Hamburg  Germany     53°33′N     10°00′E     1964021\n",
       "2   Munich  Germany  48°08′15″N  11°34′30″E     1510378"
      ]
     },
     "execution_count": 10,
     "metadata": {},
     "output_type": "execute_result"
    }
   ],
   "source": [
    "cities_df_final=cities_df.copy()\n",
    "cities_df_final"
   ]
  },
  {
   "cell_type": "markdown",
   "metadata": {},
   "source": [
    "### 4. Cities\n",
    "### 4.2 Cities Dataframe Creation\n",
    "#### 4.2.1 Config & Dataframe\n",
    "You may also use the config file provided in the Github Repository to run this (**Option 1**)"
   ]
  },
  {
   "cell_type": "code",
   "execution_count": 11,
   "metadata": {},
   "outputs": [
    {
     "data": {
      "text/plain": [
       "3306"
      ]
     },
     "execution_count": 11,
     "metadata": {},
     "output_type": "execute_result"
    }
   ],
   "source": [
    "# Option 1: Using the Alternate Method to Get Config Data\n",
    "from safe import safe\n",
    "safe.get('SERVER_HOST')\n",
    "safe.get('SERVER_USER')\n",
    "safe.get('SERVER_PASSWORD')\n",
    "safe.get('SERVER_PORT')"
   ]
  },
  {
   "cell_type": "code",
   "execution_count": null,
   "metadata": {},
   "outputs": [],
   "source": [
    "# Option 2: Without safe.py file\n",
    "schema = \"input\" # Name of the schema in the database \n",
    "host = \"input\"  # IP address of the database\n",
    "user = \"input\"    # User name to connect to the database\n",
    "password = 'input'     # Password to connect to the database\n",
    "port = input      # Port to connect to the database\n",
    "\n",
    "connection_string = f'mysql+pymysql://{user}:{password}@{host}:{port}/{schema}'"
   ]
  },
  {
   "cell_type": "markdown",
   "metadata": {},
   "source": [
    "### 4.2 Cities Dataframe Creation\n",
    "#### 4.2.2 SQL Push-Pull Request"
   ]
  },
  {
   "cell_type": "code",
   "execution_count": 11,
   "metadata": {},
   "outputs": [
    {
     "data": {
      "text/plain": [
       "3"
      ]
     },
     "execution_count": 11,
     "metadata": {},
     "output_type": "execute_result"
    }
   ],
   "source": [
    "cities_df_final.to_sql('city',\n",
    "                  if_exists='append',\n",
    "                  con=connection_string,\n",
    "                  index=False)"
   ]
  },
  {
   "cell_type": "code",
   "execution_count": 12,
   "metadata": {},
   "outputs": [
    {
     "data": {
      "text/html": [
       "<div>\n",
       "<style scoped>\n",
       "    .dataframe tbody tr th:only-of-type {\n",
       "        vertical-align: middle;\n",
       "    }\n",
       "\n",
       "    .dataframe tbody tr th {\n",
       "        vertical-align: top;\n",
       "    }\n",
       "\n",
       "    .dataframe thead th {\n",
       "        text-align: right;\n",
       "    }\n",
       "</style>\n",
       "<table border=\"1\" class=\"dataframe\">\n",
       "  <thead>\n",
       "    <tr style=\"text-align: right;\">\n",
       "      <th></th>\n",
       "      <th>City</th>\n",
       "      <th>Country</th>\n",
       "      <th>Latitude</th>\n",
       "      <th>Longitude</th>\n",
       "      <th>Population</th>\n",
       "    </tr>\n",
       "  </thead>\n",
       "  <tbody>\n",
       "    <tr>\n",
       "      <th>0</th>\n",
       "      <td>Berlin</td>\n",
       "      <td>Germany</td>\n",
       "      <td>52°31′12″N</td>\n",
       "      <td>13°24′18″E</td>\n",
       "      <td>3878100</td>\n",
       "    </tr>\n",
       "    <tr>\n",
       "      <th>1</th>\n",
       "      <td>Hamburg</td>\n",
       "      <td>Germany</td>\n",
       "      <td>53°33′N</td>\n",
       "      <td>10°00′E</td>\n",
       "      <td>1964021</td>\n",
       "    </tr>\n",
       "    <tr>\n",
       "      <th>2</th>\n",
       "      <td>Munich</td>\n",
       "      <td>Germany</td>\n",
       "      <td>48°08′15″N</td>\n",
       "      <td>11°34′30″E</td>\n",
       "      <td>1510378</td>\n",
       "    </tr>\n",
       "  </tbody>\n",
       "</table>\n",
       "</div>"
      ],
      "text/plain": [
       "      City  Country    Latitude   Longitude  Population\n",
       "0   Berlin  Germany  52°31′12″N  13°24′18″E     3878100\n",
       "1  Hamburg  Germany     53°33′N     10°00′E     1964021\n",
       "2   Munich  Germany  48°08′15″N  11°34′30″E     1510378"
      ]
     },
     "execution_count": 12,
     "metadata": {},
     "output_type": "execute_result"
    }
   ],
   "source": [
    "cities_from_sql = pd.read_sql(\"city\", con=connection_string)\n",
    "cities_from_sql"
   ]
  },
  {
   "cell_type": "markdown",
   "metadata": {},
   "source": [
    "### 5. Weather\n",
    "### 5.1 Initial Checks\n",
    "##### Parameters\n",
    "- **Data Extraction Checks**: using API from http://api.openweathermap.org\n",
    "- **Site Info Checks**: status checks, .json() keys data exploration"
   ]
  },
  {
   "cell_type": "code",
   "execution_count": null,
   "metadata": {},
   "outputs": [],
   "source": [
    "# API Key Assignment\n",
    "API_key = \"input\" # Insert your API Key here\n",
    "city = \"Berlin\""
   ]
  },
  {
   "cell_type": "code",
   "execution_count": 13,
   "metadata": {},
   "outputs": [
    {
     "name": "stdout",
     "output_type": "stream",
     "text": [
      "response:  200\n"
     ]
    }
   ],
   "source": [
    "# Berlin_json\n",
    "berlin = req.get(f\"http://api.openweathermap.org/data/2.5/forecast?q={city}&appid={API_key}&units=metric\")\n",
    "berlin_json = berlin.json()\n",
    "print(\"response: \", berlin.status_code)"
   ]
  },
  {
   "cell_type": "code",
   "execution_count": 14,
   "metadata": {},
   "outputs": [
    {
     "data": {
      "text/plain": [
       "dict_keys(['cod', 'message', 'cnt', 'list', 'city'])"
      ]
     },
     "execution_count": 14,
     "metadata": {},
     "output_type": "execute_result"
    }
   ],
   "source": [
    "# Explore Data\n",
    "berlin_json.keys()"
   ]
  },
  {
   "cell_type": "code",
   "execution_count": 15,
   "metadata": {},
   "outputs": [
    {
     "data": {
      "text/plain": [
       "{'id': 2950159,\n",
       " 'name': 'Berlin',\n",
       " 'coord': {'lat': 52.5244, 'lon': 13.4105},\n",
       " 'country': 'DE',\n",
       " 'population': 1000000,\n",
       " 'timezone': 3600,\n",
       " 'sunrise': 1733209073,\n",
       " 'sunset': 1733237703}"
      ]
     },
     "execution_count": 15,
     "metadata": {},
     "output_type": "execute_result"
    }
   ],
   "source": [
    "# Part 1: Dive Deeper in 3 parts\n",
    "berlin_json['city']"
   ]
  },
  {
   "cell_type": "code",
   "execution_count": 16,
   "metadata": {},
   "outputs": [
    {
     "data": {
      "text/html": [
       "<div>\n",
       "<style scoped>\n",
       "    .dataframe tbody tr th:only-of-type {\n",
       "        vertical-align: middle;\n",
       "    }\n",
       "\n",
       "    .dataframe tbody tr th {\n",
       "        vertical-align: top;\n",
       "    }\n",
       "\n",
       "    .dataframe thead th {\n",
       "        text-align: right;\n",
       "    }\n",
       "</style>\n",
       "<table border=\"1\" class=\"dataframe\">\n",
       "  <thead>\n",
       "    <tr style=\"text-align: right;\">\n",
       "      <th></th>\n",
       "      <th>cod</th>\n",
       "      <th>message</th>\n",
       "      <th>cnt</th>\n",
       "      <th>list</th>\n",
       "      <th>city.id</th>\n",
       "      <th>city.name</th>\n",
       "      <th>city.coord.lat</th>\n",
       "      <th>city.coord.lon</th>\n",
       "      <th>city.country</th>\n",
       "      <th>city.population</th>\n",
       "      <th>city.timezone</th>\n",
       "      <th>city.sunrise</th>\n",
       "      <th>city.sunset</th>\n",
       "    </tr>\n",
       "  </thead>\n",
       "  <tbody>\n",
       "    <tr>\n",
       "      <th>0</th>\n",
       "      <td>200</td>\n",
       "      <td>0</td>\n",
       "      <td>40</td>\n",
       "      <td>[{'dt': 1733216400, 'main': {'temp': 5.51, 'fe...</td>\n",
       "      <td>2950159</td>\n",
       "      <td>Berlin</td>\n",
       "      <td>52.5244</td>\n",
       "      <td>13.4105</td>\n",
       "      <td>DE</td>\n",
       "      <td>1000000</td>\n",
       "      <td>3600</td>\n",
       "      <td>1733209073</td>\n",
       "      <td>1733237703</td>\n",
       "    </tr>\n",
       "  </tbody>\n",
       "</table>\n",
       "</div>"
      ],
      "text/plain": [
       "   cod  message  cnt                                               list  \\\n",
       "0  200        0   40  [{'dt': 1733216400, 'main': {'temp': 5.51, 'fe...   \n",
       "\n",
       "   city.id city.name  city.coord.lat  city.coord.lon city.country  \\\n",
       "0  2950159    Berlin         52.5244         13.4105           DE   \n",
       "\n",
       "   city.population  city.timezone  city.sunrise  city.sunset  \n",
       "0          1000000           3600    1733209073   1733237703  "
      ]
     },
     "execution_count": 16,
     "metadata": {},
     "output_type": "execute_result"
    }
   ],
   "source": [
    "# Part 2: Dive Deeper in 3 parts\n",
    "pd.json_normalize(berlin_json).head()"
   ]
  },
  {
   "cell_type": "code",
   "execution_count": 17,
   "metadata": {},
   "outputs": [
    {
     "data": {
      "text/plain": [
       "2.43"
      ]
     },
     "execution_count": 17,
     "metadata": {},
     "output_type": "execute_result"
    }
   ],
   "source": [
    "# Part 3: Dive Deeper in 3 parts\n",
    "# What I am looking to explore: City, Country, Date_Time, Weather, Temperature, Wind_Speed\n",
    "\n",
    "#Key Areas\n",
    "berlin_json['city']\n",
    "berlin_json['city']['country']\n",
    "berlin_json['list'][0]['dt_txt']\n",
    "berlin_json['list'][0]['weather'][0]['description']\n",
    "berlin_json['list'][0]['main']['temp']\n",
    "berlin_json['list'][0]['wind']['speed']"
   ]
  },
  {
   "cell_type": "code",
   "execution_count": 18,
   "metadata": {},
   "outputs": [
    {
     "data": {
      "text/html": [
       "<div>\n",
       "<style scoped>\n",
       "    .dataframe tbody tr th:only-of-type {\n",
       "        vertical-align: middle;\n",
       "    }\n",
       "\n",
       "    .dataframe tbody tr th {\n",
       "        vertical-align: top;\n",
       "    }\n",
       "\n",
       "    .dataframe thead th {\n",
       "        text-align: right;\n",
       "    }\n",
       "</style>\n",
       "<table border=\"1\" class=\"dataframe\">\n",
       "  <thead>\n",
       "    <tr style=\"text-align: right;\">\n",
       "      <th></th>\n",
       "      <th>City</th>\n",
       "      <th>Country</th>\n",
       "      <th>Date_Time</th>\n",
       "      <th>Weather</th>\n",
       "      <th>Temperature</th>\n",
       "      <th>Wind_Speed</th>\n",
       "    </tr>\n",
       "  </thead>\n",
       "  <tbody>\n",
       "    <tr>\n",
       "      <th>0</th>\n",
       "      <td>Berlin</td>\n",
       "      <td>DE</td>\n",
       "      <td>2024-12-03 09:00:00</td>\n",
       "      <td>clear sky</td>\n",
       "      <td>5.51</td>\n",
       "      <td>2.43</td>\n",
       "    </tr>\n",
       "    <tr>\n",
       "      <th>1</th>\n",
       "      <td>Berlin</td>\n",
       "      <td>DE</td>\n",
       "      <td>2024-12-03 12:00:00</td>\n",
       "      <td>few clouds</td>\n",
       "      <td>6.19</td>\n",
       "      <td>3.05</td>\n",
       "    </tr>\n",
       "    <tr>\n",
       "      <th>2</th>\n",
       "      <td>Berlin</td>\n",
       "      <td>DE</td>\n",
       "      <td>2024-12-03 15:00:00</td>\n",
       "      <td>light rain</td>\n",
       "      <td>5.96</td>\n",
       "      <td>2.87</td>\n",
       "    </tr>\n",
       "    <tr>\n",
       "      <th>3</th>\n",
       "      <td>Berlin</td>\n",
       "      <td>DE</td>\n",
       "      <td>2024-12-03 18:00:00</td>\n",
       "      <td>light rain</td>\n",
       "      <td>5.55</td>\n",
       "      <td>5.04</td>\n",
       "    </tr>\n",
       "    <tr>\n",
       "      <th>4</th>\n",
       "      <td>Berlin</td>\n",
       "      <td>DE</td>\n",
       "      <td>2024-12-03 21:00:00</td>\n",
       "      <td>overcast clouds</td>\n",
       "      <td>5.29</td>\n",
       "      <td>2.40</td>\n",
       "    </tr>\n",
       "  </tbody>\n",
       "</table>\n",
       "</div>"
      ],
      "text/plain": [
       "     City Country            Date_Time          Weather  Temperature  \\\n",
       "0  Berlin      DE  2024-12-03 09:00:00        clear sky         5.51   \n",
       "1  Berlin      DE  2024-12-03 12:00:00       few clouds         6.19   \n",
       "2  Berlin      DE  2024-12-03 15:00:00       light rain         5.96   \n",
       "3  Berlin      DE  2024-12-03 18:00:00       light rain         5.55   \n",
       "4  Berlin      DE  2024-12-03 21:00:00  overcast clouds         5.29   \n",
       "\n",
       "   Wind_Speed  \n",
       "0        2.43  \n",
       "1        3.05  \n",
       "2        2.87  \n",
       "3        5.04  \n",
       "4        2.40  "
      ]
     },
     "execution_count": 18,
     "metadata": {},
     "output_type": "execute_result"
    }
   ],
   "source": [
    "# For Loop Check\n",
    "list_of_cities = ['Berlin', 'Hamburg', 'Munich']\n",
    "\n",
    "weather_data = []\n",
    "\n",
    "for city in list_of_cities:\n",
    "    response = req.get(f\"http://api.openweathermap.org/data/2.5/forecast?q={city}&appid={API_key}&units=metric\")\n",
    "    city_json = response.json()\n",
    "\n",
    "    for entry in city_json['list']:\n",
    "        weather_data.append({\n",
    "            \"City\": city_json['city']['name'],\n",
    "            \"Country\": city_json['city']['country'],\n",
    "            \"Date_Time\": entry['dt_txt'],\n",
    "            \"Weather\": entry[\"weather\"][0][\"description\"],\n",
    "            \"Temperature\": entry['main']['temp'],\n",
    "            \"Wind_Speed\": entry['wind']['speed']\n",
    "        })\n",
    "\n",
    "weather_df = pd.DataFrame(weather_data)\n",
    "weather_df.head()"
   ]
  },
  {
   "cell_type": "markdown",
   "metadata": {},
   "source": [
    "### 5.2 Weather Dataframe Creation\n",
    "#### 5.2.1 Config & Dataframe\n",
    "You may also use the config file provided in the Github Repository to run this (**Option 1**)"
   ]
  },
  {
   "cell_type": "code",
   "execution_count": null,
   "metadata": {},
   "outputs": [
    {
     "data": {
      "text/plain": [
       "'a78f79536c631d7efde7f72d8e05d8bf'"
      ]
     },
     "execution_count": 6,
     "metadata": {},
     "output_type": "execute_result"
    }
   ],
   "source": [
    "# Option 1: Using the Alternate Method to Get Config Data\n",
    "from safe import safe\n",
    "safe.get('SERVER_HOST')\n",
    "safe.get('SERVER_USER')\n",
    "safe.get('SERVER_PASSWORD')\n",
    "safe.get('SERVER_PORT')\n",
    "safe.get('WEATHER_API_KEY')"
   ]
  },
  {
   "cell_type": "code",
   "execution_count": null,
   "metadata": {},
   "outputs": [],
   "source": [
    "# Option 2: Without safe.py file\n",
    "schema = \"input\" # Insert your schema name\n",
    "host = \"input\"  # Insert your host name\n",
    "user = \"input\"    # Insert your user name\n",
    "password = 'input'     # Insert your password\n",
    "port =  input # Insert your port number \n",
    "\n",
    "connection_string = f'mysql+pymysql://{user}:{password}@{host}:{port}/{schema}'"
   ]
  },
  {
   "cell_type": "markdown",
   "metadata": {},
   "source": [
    "### 5.2 Weather Dataframe Creation\n",
    "#### 5.2.2 SQL Push-Pull Request"
   ]
  },
  {
   "cell_type": "code",
   "execution_count": 20,
   "metadata": {},
   "outputs": [
    {
     "data": {
      "text/html": [
       "<div>\n",
       "<style scoped>\n",
       "    .dataframe tbody tr th:only-of-type {\n",
       "        vertical-align: middle;\n",
       "    }\n",
       "\n",
       "    .dataframe tbody tr th {\n",
       "        vertical-align: top;\n",
       "    }\n",
       "\n",
       "    .dataframe thead th {\n",
       "        text-align: right;\n",
       "    }\n",
       "</style>\n",
       "<table border=\"1\" class=\"dataframe\">\n",
       "  <thead>\n",
       "    <tr style=\"text-align: right;\">\n",
       "      <th></th>\n",
       "      <th>City</th>\n",
       "      <th>Country</th>\n",
       "      <th>Date_Time</th>\n",
       "      <th>Weather</th>\n",
       "      <th>Temperature</th>\n",
       "      <th>Wind_Speed</th>\n",
       "    </tr>\n",
       "  </thead>\n",
       "  <tbody>\n",
       "    <tr>\n",
       "      <th>0</th>\n",
       "      <td>Berlin</td>\n",
       "      <td>DE</td>\n",
       "      <td>2024-12-03 09:00:00</td>\n",
       "      <td>clear sky</td>\n",
       "      <td>5.51</td>\n",
       "      <td>2.43</td>\n",
       "    </tr>\n",
       "    <tr>\n",
       "      <th>1</th>\n",
       "      <td>Berlin</td>\n",
       "      <td>DE</td>\n",
       "      <td>2024-12-03 12:00:00</td>\n",
       "      <td>few clouds</td>\n",
       "      <td>6.19</td>\n",
       "      <td>3.05</td>\n",
       "    </tr>\n",
       "    <tr>\n",
       "      <th>2</th>\n",
       "      <td>Berlin</td>\n",
       "      <td>DE</td>\n",
       "      <td>2024-12-03 15:00:00</td>\n",
       "      <td>light rain</td>\n",
       "      <td>5.96</td>\n",
       "      <td>2.87</td>\n",
       "    </tr>\n",
       "    <tr>\n",
       "      <th>3</th>\n",
       "      <td>Berlin</td>\n",
       "      <td>DE</td>\n",
       "      <td>2024-12-03 18:00:00</td>\n",
       "      <td>light rain</td>\n",
       "      <td>5.55</td>\n",
       "      <td>5.04</td>\n",
       "    </tr>\n",
       "    <tr>\n",
       "      <th>4</th>\n",
       "      <td>Berlin</td>\n",
       "      <td>DE</td>\n",
       "      <td>2024-12-03 21:00:00</td>\n",
       "      <td>overcast clouds</td>\n",
       "      <td>5.29</td>\n",
       "      <td>2.40</td>\n",
       "    </tr>\n",
       "    <tr>\n",
       "      <th>...</th>\n",
       "      <td>...</td>\n",
       "      <td>...</td>\n",
       "      <td>...</td>\n",
       "      <td>...</td>\n",
       "      <td>...</td>\n",
       "      <td>...</td>\n",
       "    </tr>\n",
       "    <tr>\n",
       "      <th>115</th>\n",
       "      <td>Munich</td>\n",
       "      <td>DE</td>\n",
       "      <td>2024-12-07 18:00:00</td>\n",
       "      <td>light rain</td>\n",
       "      <td>4.67</td>\n",
       "      <td>5.65</td>\n",
       "    </tr>\n",
       "    <tr>\n",
       "      <th>116</th>\n",
       "      <td>Munich</td>\n",
       "      <td>DE</td>\n",
       "      <td>2024-12-07 21:00:00</td>\n",
       "      <td>snow</td>\n",
       "      <td>2.88</td>\n",
       "      <td>6.27</td>\n",
       "    </tr>\n",
       "    <tr>\n",
       "      <th>117</th>\n",
       "      <td>Munich</td>\n",
       "      <td>DE</td>\n",
       "      <td>2024-12-08 00:00:00</td>\n",
       "      <td>light snow</td>\n",
       "      <td>2.33</td>\n",
       "      <td>6.93</td>\n",
       "    </tr>\n",
       "    <tr>\n",
       "      <th>118</th>\n",
       "      <td>Munich</td>\n",
       "      <td>DE</td>\n",
       "      <td>2024-12-08 03:00:00</td>\n",
       "      <td>light snow</td>\n",
       "      <td>0.96</td>\n",
       "      <td>6.56</td>\n",
       "    </tr>\n",
       "    <tr>\n",
       "      <th>119</th>\n",
       "      <td>Munich</td>\n",
       "      <td>DE</td>\n",
       "      <td>2024-12-08 06:00:00</td>\n",
       "      <td>overcast clouds</td>\n",
       "      <td>0.93</td>\n",
       "      <td>7.02</td>\n",
       "    </tr>\n",
       "  </tbody>\n",
       "</table>\n",
       "<p>120 rows × 6 columns</p>\n",
       "</div>"
      ],
      "text/plain": [
       "       City Country            Date_Time          Weather  Temperature  \\\n",
       "0    Berlin      DE  2024-12-03 09:00:00        clear sky         5.51   \n",
       "1    Berlin      DE  2024-12-03 12:00:00       few clouds         6.19   \n",
       "2    Berlin      DE  2024-12-03 15:00:00       light rain         5.96   \n",
       "3    Berlin      DE  2024-12-03 18:00:00       light rain         5.55   \n",
       "4    Berlin      DE  2024-12-03 21:00:00  overcast clouds         5.29   \n",
       "..      ...     ...                  ...              ...          ...   \n",
       "115  Munich      DE  2024-12-07 18:00:00       light rain         4.67   \n",
       "116  Munich      DE  2024-12-07 21:00:00             snow         2.88   \n",
       "117  Munich      DE  2024-12-08 00:00:00       light snow         2.33   \n",
       "118  Munich      DE  2024-12-08 03:00:00       light snow         0.96   \n",
       "119  Munich      DE  2024-12-08 06:00:00  overcast clouds         0.93   \n",
       "\n",
       "     Wind_Speed  \n",
       "0          2.43  \n",
       "1          3.05  \n",
       "2          2.87  \n",
       "3          5.04  \n",
       "4          2.40  \n",
       "..          ...  \n",
       "115        5.65  \n",
       "116        6.27  \n",
       "117        6.93  \n",
       "118        6.56  \n",
       "119        7.02  \n",
       "\n",
       "[120 rows x 6 columns]"
      ]
     },
     "execution_count": 20,
     "metadata": {},
     "output_type": "execute_result"
    }
   ],
   "source": [
    "weather_df_final=weather_df.copy()\n",
    "weather_df_final"
   ]
  },
  {
   "cell_type": "code",
   "execution_count": 21,
   "metadata": {},
   "outputs": [
    {
     "data": {
      "text/plain": [
       "120"
      ]
     },
     "execution_count": 21,
     "metadata": {},
     "output_type": "execute_result"
    }
   ],
   "source": [
    "weather_df_final.to_sql('weathers',\n",
    "                  if_exists='append',\n",
    "                  con=connection_string,\n",
    "                  index=False)"
   ]
  },
  {
   "cell_type": "code",
   "execution_count": 22,
   "metadata": {},
   "outputs": [
    {
     "data": {
      "text/html": [
       "<div>\n",
       "<style scoped>\n",
       "    .dataframe tbody tr th:only-of-type {\n",
       "        vertical-align: middle;\n",
       "    }\n",
       "\n",
       "    .dataframe tbody tr th {\n",
       "        vertical-align: top;\n",
       "    }\n",
       "\n",
       "    .dataframe thead th {\n",
       "        text-align: right;\n",
       "    }\n",
       "</style>\n",
       "<table border=\"1\" class=\"dataframe\">\n",
       "  <thead>\n",
       "    <tr style=\"text-align: right;\">\n",
       "      <th></th>\n",
       "      <th>weathers_id</th>\n",
       "      <th>City</th>\n",
       "      <th>Country</th>\n",
       "      <th>Date_Time</th>\n",
       "      <th>Weather</th>\n",
       "      <th>Temperature</th>\n",
       "      <th>Wind_Speed</th>\n",
       "      <th>city_id</th>\n",
       "    </tr>\n",
       "  </thead>\n",
       "  <tbody>\n",
       "    <tr>\n",
       "      <th>0</th>\n",
       "      <td>1</td>\n",
       "      <td>Berlin</td>\n",
       "      <td>DE</td>\n",
       "      <td>2024-12-03 09:00:00</td>\n",
       "      <td>clear sky</td>\n",
       "      <td>5.51</td>\n",
       "      <td>2.43</td>\n",
       "      <td>None</td>\n",
       "    </tr>\n",
       "    <tr>\n",
       "      <th>1</th>\n",
       "      <td>2</td>\n",
       "      <td>Berlin</td>\n",
       "      <td>DE</td>\n",
       "      <td>2024-12-03 12:00:00</td>\n",
       "      <td>few clouds</td>\n",
       "      <td>6.19</td>\n",
       "      <td>3.05</td>\n",
       "      <td>None</td>\n",
       "    </tr>\n",
       "    <tr>\n",
       "      <th>2</th>\n",
       "      <td>3</td>\n",
       "      <td>Berlin</td>\n",
       "      <td>DE</td>\n",
       "      <td>2024-12-03 15:00:00</td>\n",
       "      <td>light rain</td>\n",
       "      <td>5.96</td>\n",
       "      <td>2.87</td>\n",
       "      <td>None</td>\n",
       "    </tr>\n",
       "    <tr>\n",
       "      <th>3</th>\n",
       "      <td>4</td>\n",
       "      <td>Berlin</td>\n",
       "      <td>DE</td>\n",
       "      <td>2024-12-03 18:00:00</td>\n",
       "      <td>light rain</td>\n",
       "      <td>5.55</td>\n",
       "      <td>5.04</td>\n",
       "      <td>None</td>\n",
       "    </tr>\n",
       "    <tr>\n",
       "      <th>4</th>\n",
       "      <td>5</td>\n",
       "      <td>Berlin</td>\n",
       "      <td>DE</td>\n",
       "      <td>2024-12-03 21:00:00</td>\n",
       "      <td>overcast clouds</td>\n",
       "      <td>5.29</td>\n",
       "      <td>2.40</td>\n",
       "      <td>None</td>\n",
       "    </tr>\n",
       "    <tr>\n",
       "      <th>...</th>\n",
       "      <td>...</td>\n",
       "      <td>...</td>\n",
       "      <td>...</td>\n",
       "      <td>...</td>\n",
       "      <td>...</td>\n",
       "      <td>...</td>\n",
       "      <td>...</td>\n",
       "      <td>...</td>\n",
       "    </tr>\n",
       "    <tr>\n",
       "      <th>115</th>\n",
       "      <td>116</td>\n",
       "      <td>Munich</td>\n",
       "      <td>DE</td>\n",
       "      <td>2024-12-07 18:00:00</td>\n",
       "      <td>light rain</td>\n",
       "      <td>4.67</td>\n",
       "      <td>5.65</td>\n",
       "      <td>None</td>\n",
       "    </tr>\n",
       "    <tr>\n",
       "      <th>116</th>\n",
       "      <td>117</td>\n",
       "      <td>Munich</td>\n",
       "      <td>DE</td>\n",
       "      <td>2024-12-07 21:00:00</td>\n",
       "      <td>snow</td>\n",
       "      <td>2.88</td>\n",
       "      <td>6.27</td>\n",
       "      <td>None</td>\n",
       "    </tr>\n",
       "    <tr>\n",
       "      <th>117</th>\n",
       "      <td>118</td>\n",
       "      <td>Munich</td>\n",
       "      <td>DE</td>\n",
       "      <td>2024-12-08 00:00:00</td>\n",
       "      <td>light snow</td>\n",
       "      <td>2.33</td>\n",
       "      <td>6.93</td>\n",
       "      <td>None</td>\n",
       "    </tr>\n",
       "    <tr>\n",
       "      <th>118</th>\n",
       "      <td>119</td>\n",
       "      <td>Munich</td>\n",
       "      <td>DE</td>\n",
       "      <td>2024-12-08 03:00:00</td>\n",
       "      <td>light snow</td>\n",
       "      <td>0.96</td>\n",
       "      <td>6.56</td>\n",
       "      <td>None</td>\n",
       "    </tr>\n",
       "    <tr>\n",
       "      <th>119</th>\n",
       "      <td>120</td>\n",
       "      <td>Munich</td>\n",
       "      <td>DE</td>\n",
       "      <td>2024-12-08 06:00:00</td>\n",
       "      <td>overcast clouds</td>\n",
       "      <td>0.93</td>\n",
       "      <td>7.02</td>\n",
       "      <td>None</td>\n",
       "    </tr>\n",
       "  </tbody>\n",
       "</table>\n",
       "<p>120 rows × 8 columns</p>\n",
       "</div>"
      ],
      "text/plain": [
       "     weathers_id    City Country           Date_Time          Weather  \\\n",
       "0              1  Berlin      DE 2024-12-03 09:00:00        clear sky   \n",
       "1              2  Berlin      DE 2024-12-03 12:00:00       few clouds   \n",
       "2              3  Berlin      DE 2024-12-03 15:00:00       light rain   \n",
       "3              4  Berlin      DE 2024-12-03 18:00:00       light rain   \n",
       "4              5  Berlin      DE 2024-12-03 21:00:00  overcast clouds   \n",
       "..           ...     ...     ...                 ...              ...   \n",
       "115          116  Munich      DE 2024-12-07 18:00:00       light rain   \n",
       "116          117  Munich      DE 2024-12-07 21:00:00             snow   \n",
       "117          118  Munich      DE 2024-12-08 00:00:00       light snow   \n",
       "118          119  Munich      DE 2024-12-08 03:00:00       light snow   \n",
       "119          120  Munich      DE 2024-12-08 06:00:00  overcast clouds   \n",
       "\n",
       "     Temperature  Wind_Speed city_id  \n",
       "0           5.51        2.43    None  \n",
       "1           6.19        3.05    None  \n",
       "2           5.96        2.87    None  \n",
       "3           5.55        5.04    None  \n",
       "4           5.29        2.40    None  \n",
       "..           ...         ...     ...  \n",
       "115         4.67        5.65    None  \n",
       "116         2.88        6.27    None  \n",
       "117         2.33        6.93    None  \n",
       "118         0.96        6.56    None  \n",
       "119         0.93        7.02    None  \n",
       "\n",
       "[120 rows x 8 columns]"
      ]
     },
     "execution_count": 22,
     "metadata": {},
     "output_type": "execute_result"
    }
   ],
   "source": [
    "weather_from_sql = pd.read_sql(\"weathers\", con=connection_string)\n",
    "weather_from_sql"
   ]
  },
  {
   "cell_type": "markdown",
   "metadata": {},
   "source": [
    "### 7. Retrospection\n",
    "##### 1. Cities\n",
    "- **Challenges**: \n",
    "    - Extracting accurate geographical data from Wikipedia required careful parsing of HTML content.\n",
    "    - Handling different formats of latitude and longitude data was tricky and required additional string manipulation.\n",
    "    - Ensuring the data consistency and handling missing or malformed data during the scraping process.\n",
    "\n",
    "- **Highlights**:\n",
    "    - Successfully scraped and compiled city data into a structured DataFrame.\n",
    "    - Efficiently used BeautifulSoup for web scraping and pandas for data manipulation.\n",
    "    - Stored the cleaned and processed data into a SQL database for further analysis and querying."
   ]
  },
  {
   "cell_type": "markdown",
   "metadata": {},
   "source": [
    "##### 2. Weather\n",
    "- **Challenges**:\n",
    "    - Managing API rate limits and ensuring reliable data retrieval from the OpenWeatherMap API.\n",
    "    - Parsing nested JSON responses to extract relevant weather information.\n",
    "    - Handling different weather conditions and ensuring the data is stored in a consistent format.\n",
    "\n",
    "- **Highlights**:\n",
    "    - Successfully fetched and processed weather data for multiple cities.\n",
    "    - Created a comprehensive DataFrame with detailed weather information.\n",
    "    - Integrated the weather data into the SQL database, enabling complex queries and analysis."
   ]
  }
 ],
 "metadata": {
  "kernelspec": {
   "display_name": "Python 3",
   "language": "python",
   "name": "python3"
  },
  "language_info": {
   "codemirror_mode": {
    "name": "ipython",
    "version": 3
   },
   "file_extension": ".py",
   "mimetype": "text/x-python",
   "name": "python",
   "nbconvert_exporter": "python",
   "pygments_lexer": "ipython3",
   "version": "3.13.0"
  }
 },
 "nbformat": 4,
 "nbformat_minor": 2
}
